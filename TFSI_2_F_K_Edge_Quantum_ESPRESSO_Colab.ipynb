{
  "cells": [
    {
      "cell_type": "markdown",
      "metadata": {
        "id": "view-in-github",
        "colab_type": "text"
      },
      "source": [
        "<a href=\"https://colab.research.google.com/github/phonghnguyen/Colab_NEXAFS/blob/main/TFSI_2_F_K_Edge_Quantum_ESPRESSO_Colab.ipynb\" target=\"_parent\"><img src=\"https://colab.research.google.com/assets/colab-badge.svg\" alt=\"Open In Colab\"/></a>"
      ]
    },
    {
      "cell_type": "markdown",
      "metadata": {
        "id": "8OnDUEk8Or0c"
      },
      "source": [
        "# Mount Google Drive"
      ]
    },
    {
      "cell_type": "code",
      "execution_count": null,
      "metadata": {
        "colab": {
          "base_uri": "https://localhost:8080/"
        },
        "id": "gyGmIOTzXWXA",
        "outputId": "c03ed6d3-5ff4-4b41-83a8-f119d5a34aea"
      },
      "outputs": [
        {
          "name": "stdout",
          "output_type": "stream",
          "text": [
            "Mounted at /content/drive\n"
          ]
        }
      ],
      "source": [
        "from google.colab import drive\n",
        "drive.mount('/content/drive')"
      ]
    },
    {
      "cell_type": "markdown",
      "metadata": {
        "id": "E5v-b5UXKltX"
      },
      "source": [
        "Install `ase` for preparing input files, reading output files and visualization"
      ]
    },
    {
      "cell_type": "code",
      "execution_count": null,
      "metadata": {
        "id": "STM7dA3yKJb2"
      },
      "outputs": [],
      "source": [
        "%%capture\n",
        "!apt install ase\n",
        "import ase"
      ]
    },
    {
      "cell_type": "markdown",
      "metadata": {
        "id": "XNvu8hD1DkeK"
      },
      "source": [
        "Some utilities that are used throughout this notebook:"
      ]
    },
    {
      "cell_type": "code",
      "execution_count": null,
      "metadata": {
        "id": "nSk-KdEXBjFO"
      },
      "outputs": [],
      "source": [
        "# Plot formatting\n",
        "from matplotlib import font_manager\n",
        "import matplotlib.pyplot as plt\n",
        "\n",
        "font_dirs = ['/content/drive/MyDrive/Fonts/']\n",
        "\n",
        "font_files = font_manager.findSystemFonts(fontpaths = font_dirs)\n",
        "\n",
        "for font_file in font_files:\n",
        "    font_manager.fontManager.addfont(font_file)\n",
        "\n",
        "# font_names = [f.name for f in font_manager.fontManager.ttflist]\n",
        "# print(font_names)\n",
        "plt.rcParams['font.family'] = 'sans-serif'\n",
        "plt.rcParams['font.sans-serif'] = 'Avenir'\n",
        "plt.rcParams['font.size'] = 18\n",
        "plt.rcParams['axes.linewidth'] = 2\n",
        "\n",
        "# Artifact filtering from XSpectra files\n",
        "import glob\n",
        "\n",
        "def remove_artifact(file_name, target_energy=-0.10033445):\n",
        "    with open(file_name, 'r') as f:\n",
        "        lines = f.readlines()\n",
        "\n",
        "    # Only keep lines that do not contain the artifact energy\n",
        "    new_lines = [line for line in lines if not line.strip().startswith(str(target_energy))]\n",
        "\n",
        "    # Write the modified data back into the file\n",
        "    with open(file_name, 'w') as f:\n",
        "        f.writelines(new_lines)\n",
        "\n",
        "# Iterate over all '_xanes.dat' files\n",
        "xanes_files = glob.glob('*_xanes.dat')\n",
        "for file_name in xanes_files:\n",
        "    remove_artifact(file_name)"
      ]
    },
    {
      "cell_type": "code",
      "execution_count": null,
      "metadata": {
        "id": "mcIp_mP0ikTX"
      },
      "outputs": [],
      "source": [
        "qe_relax_input_file = 'TFSI_2.relax.in'\n",
        "qe_relax_output_file = 'TFSI_2.relax.out'"
      ]
    },
    {
      "cell_type": "code",
      "execution_count": null,
      "metadata": {
        "id": "v5b7nfsQFNtY"
      },
      "outputs": [],
      "source": [
        "qe_scf_input_file = 'TFSI_2.scf.in'\n",
        "qe_scf_output_file = 'TFSI_2.scf.out'"
      ]
    },
    {
      "cell_type": "code",
      "execution_count": null,
      "metadata": {
        "id": "pwbCNviWXUsF"
      },
      "outputs": [],
      "source": [
        "qe_xspectra_input_file = 'TFSI_2.xspectra.in'\n",
        "qe_xspectra_output_file = 'TFSI_2.xspectra.out'"
      ]
    },
    {
      "cell_type": "markdown",
      "metadata": {
        "id": "IJD9ZrhUbG8g"
      },
      "source": [
        "# Install the Quantum ESPRESSO Binary"
      ]
    },
    {
      "cell_type": "code",
      "execution_count": null,
      "metadata": {
        "id": "7imWdEV1V-Fg"
      },
      "outputs": [],
      "source": [
        "%%capture\n",
        "# Clone the QE git\n",
        "!git clone https://github.com/QEF/q-e.git\n",
        "# Install the dependencies\n",
        "!apt-get install -y libfftw3-3 libfftw3-dev libfftw3-doc\n",
        "# enter the q-e folder\n",
        "%cd q-e\n",
        "# run the configure file\n",
        "!DFLAGS='-D__OPENMP -D__FFTW3 -D__MPI -D__SCALAPACK' FFT_LIBS='-lfftw3'  ./configure --enable-openmp"
      ]
    },
    {
      "cell_type": "markdown",
      "metadata": {
        "id": "l-nZcqsubveu"
      },
      "source": [
        "Run the cells to make `pw.x`, `xspectra.x`, and `ld1.x` executables"
      ]
    },
    {
      "cell_type": "code",
      "execution_count": null,
      "metadata": {
        "id": "nwarCLtjWgmd"
      },
      "outputs": [],
      "source": [
        "%%capture\n",
        "!make pw"
      ]
    },
    {
      "cell_type": "code",
      "execution_count": null,
      "metadata": {
        "id": "-DeuK4SDiCHf"
      },
      "outputs": [],
      "source": [
        "\n",
        "%%capture\n",
        "!make xspectra"
      ]
    },
    {
      "cell_type": "code",
      "execution_count": null,
      "metadata": {
        "id": "l111JOUavlRH"
      },
      "outputs": [],
      "source": [
        "%%capture\n",
        "!make ld1"
      ]
    },
    {
      "cell_type": "markdown",
      "metadata": {
        "id": "4Ek7IVxvP9gm"
      },
      "source": [
        "# Navigate to working directory"
      ]
    },
    {
      "cell_type": "code",
      "execution_count": null,
      "metadata": {
        "colab": {
          "base_uri": "https://localhost:8080/"
        },
        "id": "UhDaWoI0tgXT",
        "outputId": "2192e598-e9cd-4975-ab2a-c4f7692cea0e"
      },
      "outputs": [
        {
          "name": "stdout",
          "output_type": "stream",
          "text": [
            "/content/drive/MyDrive/Quantum_ESPRESSO/2023_06_20/TFSI_2\n"
          ]
        }
      ],
      "source": [
        "%cd /content/drive/MyDrive/Quantum_ESPRESSO/2023_06_20/TFSI_2/"
      ]
    },
    {
      "cell_type": "markdown",
      "metadata": {
        "id": "4yG2DhuXKDeU"
      },
      "source": [
        "# 1. Structural relaxation"
      ]
    },
    {
      "cell_type": "markdown",
      "metadata": {
        "id": "qI_UHtTuQZpF"
      },
      "source": [
        "This approach is different for reduced F4TCNQ, which is a radical anion species. We set the total charge to be -1 and include spin polarization as the unpaired electron introduces it. As a first guess, we assume that the unpaired electron is distributed over the carbon atoms. We should expect that the resulting atomic arrange represents the quinoidal form."
      ]
    },
    {
      "cell_type": "markdown",
      "metadata": {
        "id": "XfPACJlnQGd8"
      },
      "source": [
        "Write the input file for structural relaxation calculations (note that the initial atomic positions are from Avagadro):"
      ]
    },
    {
      "cell_type": "code",
      "execution_count": 56,
      "metadata": {
        "id": "sjaLGUo3kdTQ"
      },
      "outputs": [],
      "source": [
        "qe_input = \"\"\"\n",
        "&CONTROL\n",
        "    calculation='relax',\n",
        "    restart_mode='restart',\n",
        "    prefix='TFSI_2',\n",
        "    outdir='/content/drive/MyDrive/Quantum_ESPRESSO/2023_06_20/TFSI_2/',\n",
        "    pseudo_dir = '/content/drive/MyDrive/Quantum_ESPRESSO/SSSP_efficiency/',\n",
        "    etot_conv_thr = 1e-5,\n",
        "    forc_conv_thr = 1e-4,\n",
        "    disk_io='medium'\n",
        "/\n",
        "&SYSTEM\n",
        "    ibrav = 1,\n",
        "    celldm(1) = 40,\n",
        "    nat = 15,\n",
        "    ntyp = 5,\n",
        "    ecutwfc = 30,\n",
        "    tot_charge = -1,\n",
        "/\n",
        "&ELECTRONS\n",
        "    conv_thr =  1.0d-8\n",
        "/\n",
        "&IONS\n",
        "/\n",
        "\n",
        "ATOMIC_SPECIES\n",
        "F 18.988 f_pbe_v1.4.uspp.F.UPF\n",
        "N 14.007 N.pbe-n-radius_5.UPF\n",
        "C 12.011 C.pbe-n-kjpaw_psl.1.0.0.UPF\n",
        "S 32.065 s_pbe_v1.4.uspp.F.UPF\n",
        "O 15.999 O.pbe-n-kjpaw_psl.0.1.UPF\n",
        "\n",
        "ATOMIC_POSITIONS angstrom\n",
        "S    11.7136472693   11.3000525590   10.2512506812\n",
        "S     9.5503254009   10.3168940131   11.4566453285\n",
        "F     8.4634392598   10.5198711973    8.9859226145\n",
        "F     7.1207962546   11.0396283436   10.6118427876\n",
        "F     8.6817974366   12.4404943620   10.0411900162\n",
        "F    14.0020792833    9.9222117007   10.3085105838\n",
        "F    12.2816506557    8.6879076197    9.8257328170\n",
        "F    12.6227796852    9.3650132870   11.8933939782\n",
        "O    11.0691251438   11.1511733007    8.9460568546\n",
        "O    12.7051340012   12.3833522029   10.2706453749\n",
        "O     9.8738450585    8.9753595859   10.9701011625\n",
        "O     8.7870742908   10.2932778593   12.7111771460\n",
        "N    10.7491969769   11.3526836720   11.5081815080\n",
        "C    12.6710725072    9.7481251509   10.5847155344\n",
        "C     8.4295513287   11.1104063064   10.2114367797\n",
        "\n",
        "K_POINTS automatic\n",
        "1 1 1 0 0 0\n",
        "\"\"\"\n",
        "\n",
        "# We write the input script\n",
        "with open(qe_relax_input_file, \"w\") as f:\n",
        "    f.write(qe_input)"
      ]
    },
    {
      "cell_type": "markdown",
      "metadata": {
        "id": "Ehn191QSICci"
      },
      "source": [
        "Let's quickly check the input file to make sure our cell size is large enough to isolate individual molecules and that the molecule is centered in the cell."
      ]
    },
    {
      "cell_type": "code",
      "execution_count": null,
      "metadata": {
        "colab": {
          "base_uri": "https://localhost:8080/"
        },
        "id": "HzC4dpS9NF37",
        "outputId": "9c1b49bc-a357-4af9-c642-699f5926a7f0"
      },
      "outputs": [
        {
          "name": "stdout",
          "output_type": "stream",
          "text": [
            "The dimensions of the box are 21.16708 x 21.16708 x 21.16708 Angstrom.\n",
            "The atomic positions in the input file are already centered in the unit cell.\n",
            "Distance between periodic images: 14.2415925092 Angstroms.\n"
          ]
        }
      ],
      "source": [
        "from ase import Atoms\n",
        "from ase.io import read\n",
        "import numpy as np\n",
        "\n",
        "# Function to parse celldm(1) from QE input file\n",
        "def get_celldm(file_path):\n",
        "    with open(file_path, 'r') as file:\n",
        "        for line in file:\n",
        "            if 'celldm(1)' in line:\n",
        "                return float(line.split('=')[1].split(',')[0])\n",
        "\n",
        "# Read the atomic structure from the QE input file\n",
        "atoms = read(qe_relax_input_file)\n",
        "\n",
        "# Get the value of celldm(1)\n",
        "celldm = get_celldm(qe_relax_input_file)\n",
        "\n",
        "# Convert celldm(1) from Bohr radius (atomic units) to Angstrom\n",
        "celldm_angstrom = celldm * 0.529177\n",
        "\n",
        "# Print the dimensions of the box\n",
        "print(f\"The dimensions of the box are {celldm_angstrom} x {celldm_angstrom} x {celldm_angstrom} Angstrom.\")\n",
        "\n",
        "# Calculate the centroid of the molecule\n",
        "centroid = atoms.get_center_of_mass()\n",
        "\n",
        "# The center of the unit cell\n",
        "center = [celldm_angstrom/2, celldm_angstrom/2, celldm_angstrom/2]\n",
        "\n",
        "# Check if the molecule is already centered in the unit cell\n",
        "if np.allclose(centroid, center):\n",
        "    print(\"The atomic positions in the input file are already centered in the unit cell.\")\n",
        "else:\n",
        "    print(\"The atomic positions in the input file are not centered in the unit cell.\")\n",
        "    print(\"Suggested modifications to the atomic positions to center them in the unit cell:\")\n",
        "\n",
        "    # Calculate the translation vector\n",
        "    translation = np.subtract(center, centroid)\n",
        "\n",
        "    # Translate the molecule to the center of the unit cell\n",
        "    atoms.translate(translation)\n",
        "\n",
        "    # Print the new atomic positions\n",
        "    print(\"\\nNew atomic positions (Angstrom):\")\n",
        "    for atom in atoms:\n",
        "        print(f\"{atom.symbol:2} {atom.position[0]:15.10f} {atom.position[1]:15.10f} {atom.position[2]:15.10f}\")\n",
        "\n",
        "# Check the distance between periodic images\n",
        "min_dist_from_wall = np.min(atoms.positions)\n",
        "distance_between_images = 2 * min_dist_from_wall\n",
        "\n",
        "print(f\"Distance between periodic images: {distance_between_images} Angstroms.\")\n",
        "\n",
        "if distance_between_images < 10 or distance_between_images > 15:\n",
        "    print(\"Warning: The distance between periodic images is outside the ideal range (10-15 Angstroms).\")\n",
        "    suggested_celldm = (min_dist_from_wall + 5)*2\n",
        "    print(f\"Suggested celldm(1) to maintain a distance of 10-15 Angstroms between periodic images: {suggested_celldm/0.529177}\")"
      ]
    },
    {
      "cell_type": "code",
      "execution_count": null,
      "metadata": {
        "colab": {
          "base_uri": "https://localhost:8080/",
          "height": 501
        },
        "id": "d_a7uRAg1oHU",
        "outputId": "4f45f2b9-b08b-49fd-f480-f0ae8aaf36af"
      },
      "outputs": [
        {
          "data": {
            "image/png": "[encoded data removed]",
            "text/plain": [
              "<Figure size 640x480 with 1 Axes>"
            ]
          },
          "metadata": {},
          "output_type": "display_data"
        }
      ],
      "source": [
        "import matplotlib.pyplot as plt\n",
        "from ase import Atoms\n",
        "from ase.io import read\n",
        "from ase.visualize import view\n",
        "from ase.visualize.plot import plot_atoms\n",
        "from ase.visualize.plot import animate\n",
        "\n",
        "# Read the atomic structure from the Quantum_ESPRESSO input file\n",
        "atoms = read(qe_relax_input_file)\n",
        "\n",
        "# Center the view on the molecule\n",
        "atoms.center()\n",
        "\n",
        "# Plot the atoms\n",
        "fig, ax = plt.subplots()\n",
        "plot_atoms(atoms, ax=ax, radii = 0.5, rotation=('0x,0y,0z'))\n",
        "\n",
        "# Add axis labels\n",
        "ax.set_xlabel('X (Å)')\n",
        "ax.set_ylabel('Y (Å)')\n",
        "ax.set_title('Input')\n",
        "ax.xaxis.set_tick_params(which='both', size=5, width=2, direction='in', top='on')\n",
        "ax.yaxis.set_tick_params(which='both', size=5, width=2, direction='in', right='on')\n",
        "\n",
        "# Show the plot\n",
        "plt.show()"
      ]
    },
    {
      "cell_type": "markdown",
      "metadata": {
        "id": "LvJb0_pifBLT"
      },
      "source": [
        "If we're happy, we can run the computation to relax the structure."
      ]
    },
    {
      "cell_type": "code",
      "execution_count": null,
      "metadata": {
        "id": "127DFAqIkjMy"
      },
      "outputs": [],
      "source": [
        "! /content/q-e/bin/pw.x  -in TFSI.relax.in > TFSI.relax.out"
      ]
    },
    {
      "cell_type": "markdown",
      "metadata": {
        "id": "07Z6N8ThD2xd"
      },
      "source": [
        "ASE is not able to visualize the structure from calculations that consider magnetization and spin polarization. You will need to manually check and ensure that calculations moving forward use the coordinates from the relaxation output file."
      ]
    },
    {
      "cell_type": "markdown",
      "metadata": {
        "id": "tJblk4FjEm4J"
      },
      "source": [
        "# 2 + 3. Self-consistent field (SCF) and XSpectra calculation"
      ]
    },
    {
      "cell_type": "markdown",
      "metadata": {
        "id": "PE4DwT9Hy7pg"
      },
      "source": [
        "To improve accuracy, we need core-hole pseudopotentials. To do this, we will take an existing, established pseudopotential, parse the input used to generate it, and modify it to have a core hole. Specifically, remove an electron from the 1s core level, turning it from a 1s^2 configuration to a 1s^1 configuration. An example is shown at this link: https://indico.ictp.it/event/a11191/session/17/contribution/9/material/0/0.pdf. If we use the `C.pbe-n-kjpaw_psl.1.0.0.UPF` pseudopotential file from the SSSP efficiency library as a basis, the input used to generate it was:"
      ]
    },
    {
      "cell_type": "markdown",
      "metadata": {
        "id": "p8Ck6Vac0FZz"
      },
      "source": [
        "```\n",
        " &input\n",
        "   title='C',\n",
        "   zed=6.,\n",
        "   rel=1,\n",
        "   config='[He] 2s2 2p2',\n",
        "   iswitch=3,\n",
        "   dft='PBE'\n",
        " /\n",
        " &inputp\n",
        "   lpaw=.true.,\n",
        "   pseudotype=3,\n",
        "   file_pseudopw='C.pbe-n-kjpaw_psl.1.0.0.UPF',\n",
        "   author='ADC',\n",
        "   lloc=-1,\n",
        "   rcloc=0.9\n",
        "   which_augfun='PSQ',\n",
        "   rmatch_augfun_nc=.true.,\n",
        "   nlcc=.true.,\n",
        "   new_core_ps=.true.,\n",
        "   rcore=0.7,\n",
        "   tm=.true.\n",
        " /\n",
        "4\n",
        "2S  1  0  2.00  0.00  1.00  1.20  0.0\n",
        "2S  1  0  0.00  3.00  1.00  1.20  0.0\n",
        "2P  2  1  2.00  0.00  0.90  1.40  0.0\n",
        "2P  2  1  0.00  0.05  0.90  1.40  0.0\n",
        "```"
      ]
    },
    {
      "cell_type": "markdown",
      "metadata": {
        "id": "KjKGADYy1MBJ"
      },
      "source": [
        "The corresponding core hole pseudopotential file can be generated using the following modified input:"
      ]
    },
    {
      "cell_type": "markdown",
      "metadata": {
        "id": "QnvpTybBbHEu"
      },
      "source": [
        "\n",
        "\n",
        "```\n",
        "qe_ld1_input_file = 'C_corehole.in'\n",
        "qe_ld1_output_file = 'C_corehole.out'\n",
        "```\n",
        "\n"
      ]
    },
    {
      "cell_type": "markdown",
      "metadata": {
        "id": "GSoZkR96YPtX"
      },
      "source": [
        "```\n",
        "qe_input = \"\"\"\n",
        " &input\n",
        "   title='C_corehole',\n",
        "   zed=6.,\n",
        "   rel=1,\n",
        "   config='1s1 2s2 2p2',\n",
        "   iswitch=3,\n",
        "   dft='PBE'\n",
        " /\n",
        " &inputp\n",
        "   lpaw=.true.,\n",
        "   pseudotype=3,\n",
        "   file_pseudopw='C_corehole.pbe-n-kjpaw_psl.1.0.0.UPF',\n",
        "   author='anonymous',\n",
        "   lloc=-1,\n",
        "   rcloc=0.9,\n",
        "   which_augfun='PSQ',\n",
        "   rmatch_augfun_nc=.true.,\n",
        "   nlcc=.true.,\n",
        "   new_core_ps=.true.,\n",
        "   rcore=0.7,\n",
        "   tm=.true.,\n",
        "   lgipaw_reconstruction=.true.,\n",
        " /\n",
        "4\n",
        "2S  1  0  2.00  0.00  1.00  1.20  0.0\n",
        "2S  1  0  0.00  3.00  1.00  1.20  0.0\n",
        "2P  2  1  2.00  0.00  0.90  1.40  0.0\n",
        "2P  2  1  0.00  0.05  0.90  1.40  0.0\n",
        "\"\"\"\n",
        "\n",
        "# We write the input script\n",
        "with open(qe_ld1_input_file, \"w\") as f:\n",
        "    f.write(qe_input)\n",
        "```"
      ]
    },
    {
      "cell_type": "markdown",
      "metadata": {
        "id": "yDb4UIWHYbPW"
      },
      "source": [
        "The core hole pseudopotential file can now be generated using `ld1.x`."
      ]
    },
    {
      "cell_type": "markdown",
      "metadata": {
        "id": "duKeELeLYiqt"
      },
      "source": [
        "```\n",
        "! /content/q-e/bin/ld1.x  -in C_corehole.in > C_corehole.out\n",
        "```"
      ]
    },
    {
      "cell_type": "code",
      "execution_count": null,
      "metadata": {
        "id": "55lkyb_115CM"
      },
      "outputs": [],
      "source": [
        "qe_ld1_input_file = 'C_corehole.in'\n",
        "qe_ld1_output_file = 'C_corehole.out'"
      ]
    },
    {
      "cell_type": "code",
      "execution_count": null,
      "metadata": {
        "id": "gaCmVyDN1R6V"
      },
      "outputs": [],
      "source": [
        "qe_input = \"\"\"\n",
        " &input\n",
        "   title='C_corehole',\n",
        "   zed=6.,\n",
        "   rel=1,\n",
        "   config='1s1 2s2 2p2',\n",
        "   iswitch=3,\n",
        "   dft='PBE'\n",
        " /\n",
        " &inputp\n",
        "   lpaw=.true.,\n",
        "   pseudotype=3,\n",
        "   file_pseudopw='C_corehole.pbe-n-kjpaw_psl.1.0.0.UPF',\n",
        "   author='anonymous',\n",
        "   lloc=-1,\n",
        "   rcloc=0.9,\n",
        "   which_augfun='PSQ',\n",
        "   rmatch_augfun_nc=.true.,\n",
        "   nlcc=.true.,\n",
        "   new_core_ps=.true.,\n",
        "   rcore=0.7,\n",
        "   tm=.true.,\n",
        "   lgipaw_reconstruction=.true.,\n",
        " /\n",
        "4\n",
        "2S  1  0  2.00  0.00  1.00  1.20  0.0\n",
        "2S  1  0  0.00  3.00  1.00  1.20  0.0\n",
        "2P  2  1  2.00  0.00  0.90  1.40  0.0\n",
        "2P  2  1  0.00  0.05  0.90  1.40  0.0\n",
        "\"\"\"\n",
        "\n",
        "# We write the input script\n",
        "with open(qe_ld1_input_file, \"w\") as f:\n",
        "    f.write(qe_input)"
      ]
    },
    {
      "cell_type": "markdown",
      "metadata": {
        "id": "7diY_BZ62mm7"
      },
      "source": [
        "Let's generate the core hole pseudopotential file."
      ]
    },
    {
      "cell_type": "code",
      "execution_count": null,
      "metadata": {
        "id": "SY5cCV5-2jhb"
      },
      "outputs": [],
      "source": [
        "! /content/q-e/bin/ld1.x  -in C_corehole.in > C_corehole.out"
      ]
    },
    {
      "cell_type": "markdown",
      "metadata": {
        "id": "KklgNpwuFTd5"
      },
      "source": [
        "In previous notebooks, we have walked through the single atom NEXAFS simulations, first running the SCF calculation, followed by the XSpectra calculation for the x-, y-, and z-polarized X-rays. Here, we implement it for a molcule.\n",
        "\n",
        "The code will iterate over each atom, writing the SCF input files in such a way that every iteration simulates the contributions of the specific atom to the spectra.\n",
        "\n",
        "The format we use to specify atom type and position is the same as that used by Quantum ESPRESSO. Specifically, we will use the relaxed atomic coordinates and denote the atoms over which we want to iterate by adding an asterisk (*) before that atom.\n",
        "\n",
        "In this particular example, the code will perform the SCF and XSpectra calculations for the four carbon atoms (*) I've highlighted. To help users visualize their input, we've also included a feature that marks the atoms contributing to the NEXAFS spectra in red on the graphical representation of the molecule."
      ]
    },
    {
      "cell_type": "markdown",
      "metadata": {
        "id": "wynBXjvpruDU"
      },
      "source": [
        "We first need to make sure there is a suitable SCF input file that serves as the basis the remaining calculations."
      ]
    },
    {
      "cell_type": "code",
      "execution_count": 57,
      "metadata": {
        "id": "FsCCS9PyFDp8"
      },
      "outputs": [],
      "source": [
        "qe_input = \"\"\"\n",
        "&CONTROL\n",
        "calculation='scf',\n",
        "prefix='TFSI_2',\n",
        "outdir='/content/drive/MyDrive/Quantum_ESPRESSO/2023_06_20/TFSI_2/',\n",
        "pseudo_dir = '/content/drive/MyDrive/Quantum_ESPRESSO/Pseudopotentials/',\n",
        "/\n",
        "&SYSTEM\n",
        "ibrav = 1,\n",
        "celldm(1) = 40,\n",
        "nat = 15,\n",
        "ntyp = 6,\n",
        "ecutwfc=40,\n",
        "occupations='smearing',\n",
        "smearing='fd',\n",
        "degauss=0.0019,\n",
        "tot_charge = -1,\n",
        "/\n",
        "&ELECTRONS\n",
        "mixing_beta=0.3,\n",
        "/\n",
        "\n",
        "ATOMIC_SPECIES\n",
        "F_h 18.988 F_corehole.pbe-n-kjpaw_psl.1.0.0.UPF\n",
        "F 18.988 F.pbe-n-kjpaw_psl.1.0.0.UPF\n",
        "N 14.007 N.pbe-n-radius_5.UPF\n",
        "C 12.011 C.pbe-n-kjpaw_psl.1.0.0.UPF\n",
        "S 32.065 S.pbe-n-kjpaw_psl.1.0.0.UPF\n",
        "O 15.999 O.pbe-n-kjpaw_psl.0.1.UPF\n",
        "\n",
        "ATOMIC_POSITIONS angstrom\n",
        "S    11.7136472693   11.3000525590   10.2512506812\n",
        "S     9.5503254009   10.3168940131   11.4566453285\n",
        "F     8.4634392598   10.5198711973    8.9859226145\n",
        "F     7.1207962546   11.0396283436   10.6118427876\n",
        "F     8.6817974366   12.4404943620   10.0411900162\n",
        "F    14.0020792833    9.9222117007   10.3085105838\n",
        "F    12.2816506557    8.6879076197    9.8257328170\n",
        "F    12.6227796852    9.3650132870   11.8933939782\n",
        "O    11.0691251438   11.1511733007    8.9460568546\n",
        "O    12.7051340012   12.3833522029   10.2706453749\n",
        "O     9.8738450585    8.9753595859   10.9701011625\n",
        "O     8.7870742908   10.2932778593   12.7111771460\n",
        "N    10.7491969769   11.3526836720   11.5081815080\n",
        "C    12.6710725072    9.7481251509   10.5847155344\n",
        "C     8.4295513287   11.1104063064   10.2114367797\n",
        "\n",
        "K_POINTS automatic\n",
        "1 1 1 0 0 0\n",
        "\"\"\"\n",
        "\n",
        "# We write the input script\n",
        "with open(qe_scf_input_file, \"w\") as f:\n",
        "    f.write(qe_input)"
      ]
    },
    {
      "cell_type": "code",
      "execution_count": null,
      "metadata": {
        "colab": {
          "base_uri": "https://localhost:8080/"
        },
        "id": "BTgva-K3im6M",
        "outputId": "a43fe99d-dfc1-486d-8ccd-b207beb48660"
      },
      "outputs": [
        {
          "name": "stdout",
          "output_type": "stream",
          "text": [
            "^C\n"
          ]
        }
      ],
      "source": [
        "! /content/q-e/bin/pw.x  -in TFSI_2.scf.in > TFSI_2.scf.out"
      ]
    },
    {
      "cell_type": "code",
      "execution_count": null,
      "metadata": {
        "colab": {
          "base_uri": "https://localhost:8080/",
          "height": 501
        },
        "id": "xqPTAvTjrjPU",
        "outputId": "c72e0307-18a5-4164-8530-7b0d6e9c68d7"
      },
      "outputs": [
        {
          "data": {
            "image/png": "[encoded data removed]",
            "text/plain": [
              "<Figure size 640x480 with 1 Axes>"
            ]
          },
          "metadata": {},
          "output_type": "display_data"
        }
      ],
      "source": [
        "from ase.io import read\n",
        "import matplotlib.pyplot as plt\n",
        "from ase.visualize.plot import plot_atoms\n",
        "from ase import Atoms\n",
        "\n",
        "# User provides the atom types and positions in the form of a string\n",
        "atoms_string = \"\"\"\n",
        "S    11.7136472693   11.3000525590   10.2512506812\n",
        "S     9.5503254009   10.3168940131   11.4566453285\n",
        "*F     8.4634392598   10.5198711973    8.9859226145\n",
        "*F     7.1207962546   11.0396283436   10.6118427876\n",
        "*F     8.6817974366   12.4404943620   10.0411900162\n",
        "*F    14.0020792833    9.9222117007   10.3085105838\n",
        "*F    12.2816506557    8.6879076197    9.8257328170\n",
        "*F    12.6227796852    9.3650132870   11.8933939782\n",
        "O    11.0691251438   11.1511733007    8.9460568546\n",
        "O    12.7051340012   12.3833522029   10.2706453749\n",
        "O     9.8738450585    8.9753595859   10.9701011625\n",
        "O     8.7870742908   10.2932778593   12.7111771460\n",
        "N    10.7491969769   11.3526836720   11.5081815080\n",
        "C    12.6710725072    9.7481251509   10.5847155344\n",
        "C     8.4295513287   11.1104063064   10.2114367797\n",
        "\"\"\"\n",
        "\n",
        "# Read atomic positions\n",
        "atoms = read(qe_scf_input_file)\n",
        "\n",
        "# Parse the atoms string to create a list of atoms and a list of indices for excited atoms\n",
        "atom_info = atoms_string.strip().split('\\n')\n",
        "excited_atoms_info = [atom for atom in atom_info if '*' in atom]\n",
        "normal_atoms_info = [atom for atom in atom_info if '*' not in atom]\n",
        "\n",
        "excited_atoms_info = [atom.replace('*', '') for atom in excited_atoms_info]  # Remove asterisks from excited atoms\n",
        "\n",
        "def parse_info(info_list):\n",
        "    atom_positions = []\n",
        "    atom_types = []\n",
        "    for atom in info_list:\n",
        "        elements = atom.split()\n",
        "        atom_type, x, y, z = elements[0], float(elements[1]), float(elements[2]), float(elements[3])\n",
        "        atom_positions.append([x, y, z])\n",
        "        atom_types.append(atom_type)\n",
        "    return atom_types, atom_positions\n",
        "\n",
        "normal_atom_types, normal_atom_positions = parse_info(normal_atoms_info)\n",
        "excited_atom_types, excited_atom_positions = parse_info(excited_atoms_info)\n",
        "\n",
        "# Create an Atoms object for the normal and excited atoms\n",
        "atoms_normal = Atoms(symbols=normal_atom_types, positions=normal_atom_positions)\n",
        "atoms_excited = Atoms(symbols=excited_atom_types, positions=excited_atom_positions)\n",
        "\n",
        "# Use the same cell for both\n",
        "atoms_normal.set_cell(atoms.get_cell())\n",
        "atoms_excited.set_cell(atoms.get_cell())\n",
        "\n",
        "# Create subplots\n",
        "fig, ax = plt.subplots()\n",
        "\n",
        "# Plot the atoms\n",
        "plot_atoms(atoms_normal, ax=ax, radii=0.5, rotation=('0x,0y,0z'))\n",
        "\n",
        "# Plot the excited atoms with a different color\n",
        "plot_atoms(atoms_excited, ax=ax, radii=0.5, rotation=('0x,0y,0z'), colors=['#00FFFF']*len(atoms_excited))\n",
        "\n",
        "# Add axis labels\n",
        "ax.set_xlabel('X (Å)')\n",
        "ax.set_ylabel('Y (Å)')\n",
        "ax.set_title('Simulated Atoms in Cyan')\n",
        "ax.xaxis.set_tick_params(which='both', size=5, width=2, direction='in', top='on')\n",
        "ax.yaxis.set_tick_params(which='both', size=5, width=2, direction='in', right='on')\n",
        "\n",
        "plt.show()"
      ]
    },
    {
      "cell_type": "markdown",
      "metadata": {
        "id": "c2mRTq_FsL3N"
      },
      "source": [
        "Let's make sure that we are using the correct work function for these series of atoms."
      ]
    },
    {
      "cell_type": "code",
      "execution_count": null,
      "metadata": {
        "id": "GD15fhAfoak4"
      },
      "outputs": [],
      "source": [
        "! /content/q-e/XSpectra/tools/upf2plotcore.sh /content/drive/MyDrive/Quantum_ESPRESSO/Pseudopotentials/F_corehole.pbe-n-kjpaw_psl.1.0.0.UPF > current_wfc.wfc"
      ]
    },
    {
      "cell_type": "markdown",
      "metadata": {
        "id": "O56yVQJEsPcF"
      },
      "source": [
        "The cell below will iterate over all atoms specified and generate unique filenames for the `_xanes.dat` files. You should double-check to make sure that file names and directories are appropriate."
      ]
    },
    {
      "cell_type": "code",
      "execution_count": null,
      "metadata": {
        "colab": {
          "background_save": true
        },
        "id": "RyOiQFbkGH3V"
      },
      "outputs": [],
      "source": [
        "# Parse the atoms string to create a list of atoms and a list of indices for excited atoms\n",
        "atom_positions = [atom.split() for atom in atoms_string.strip().split('\\n')]\n",
        "excited_atoms_indices = [i for i, atom in enumerate(atom_positions) if '*' in atom[0]]\n",
        "atom_positions = [[atom_type.replace('*', ''), *coordinates] for atom_type, *coordinates in atom_positions]  # Remove asterisks from all atoms\n",
        "\n",
        "# Iterate over each excited atom\n",
        "for i in excited_atoms_indices:\n",
        "    # Make a fresh copy of the atom positions, removing any _h suffix\n",
        "    new_atom_positions = [[atom_type.replace('_h', ''), *coordinates] for atom_type, *coordinates in atom_positions.copy()]\n",
        "    new_atom_positions[i][0] += \"_h\"  # Add _h suffix to the current atom\n",
        "\n",
        "    # Format the atomic positions for the SCF input file\n",
        "    formatted_positions = \"\\n\".join(\" \".join(map(str, pos)) if i == 0 else \"    \" + \" \".join(map(str, pos)) for i, pos in enumerate(new_atom_positions))\n",
        "\n",
        "    # Write the Quantum Espresso SCF input file\n",
        "    qe_input = \"\"\"\n",
        "    &CONTROL\n",
        "    calculation='scf',\n",
        "    prefix='TFSI_2',\n",
        "    outdir='/content/drive/MyDrive/Quantum_ESPRESSO/2023_06_20/TFSI_2/',\n",
        "    pseudo_dir = '/content/drive/MyDrive/Quantum_ESPRESSO/Pseudopotentials/',\n",
        "    /\n",
        "    &SYSTEM\n",
        "    ibrav = 1,\n",
        "    celldm(1) = 40,\n",
        "    nat = 15,\n",
        "    ntyp = 6,\n",
        "    ecutwfc=40,\n",
        "    occupations='smearing',\n",
        "    smearing='fd',\n",
        "    degauss=0.0019,\n",
        "    tot_charge = -1,\n",
        "    /\n",
        "    &ELECTRONS\n",
        "    mixing_beta=0.3,\n",
        "    /\n",
        "\n",
        "    ATOMIC_SPECIES\n",
        "    F_h 18.988 F_corehole.pbe-n-kjpaw_psl.1.0.0.UPF\n",
        "    F 18.988 F.pbe-n-kjpaw_psl.1.0.0.UPF\n",
        "    N 14.007 N.pbe-n-radius_5.UPF\n",
        "    C 12.011 C.pbe-n-kjpaw_psl.1.0.0.UPF\n",
        "    S 32.065 S.pbe-n-kjpaw_psl.1.0.0.UPF\n",
        "    O 15.999 O.pbe-n-kjpaw_psl.0.1.UPF\n",
        "\n",
        "    ATOMIC_POSITIONS angstrom\n",
        "    \"\"\" + ''.join(formatted_positions) + \"\"\"\n",
        "\n",
        "    K_POINTS {automatic}\n",
        "        1 1 1 0 0 0\n",
        "    \"\"\"\n",
        "\n",
        "    with open(f'TFSI_2.scf.in', 'w') as file:\n",
        "        file.write(qe_input)\n",
        "\n",
        "    # Run the SCF calculation\n",
        "    ! /content/q-e/bin/pw.x  -in TFSI_2.scf.in > TFSI_2.scf.out\n",
        "\n",
        "    # Define the desired values for xkvec and xepsilon\n",
        "    values = [((0, 1, 0), (1, 0, 0)),\n",
        "              ((0, 0, 1), (0, 1, 0)),\n",
        "              ((1, 0, 0), (0, 0, 1))]\n",
        "\n",
        "    # Initialize the lists\n",
        "    xanes_files = []\n",
        "\n",
        "    # Generate the file names and input files\n",
        "    for xkvec, xepsilon in values:\n",
        "        # Generate the file name based on the xkvec and xepsilon values\n",
        "        xanes_file = f'TFSI_2_F_{i}_xkvec{\"%i%i%i\" % xkvec}_xepsilon{\"%i%i%i\" % xepsilon}_xanes.dat'\n",
        "        xanes_files.append(xanes_file)\n",
        "\n",
        "        qe_input = f\"\"\"\n",
        "        &input_xspectra\n",
        "            calculation='xanes_dipole'\n",
        "            prefix='TFSI_2',\n",
        "            outdir='/content/drive/MyDrive/Quantum_ESPRESSO/2023_06_20/TFSI_2/',\n",
        "            xniter=1000,\n",
        "            xcheck_conv=50,\n",
        "            xkvec(1)={xkvec[0]},\n",
        "            xkvec(2)={xkvec[1]},\n",
        "            xkvec(3)={xkvec[2]},\n",
        "            xepsilon(1)={xepsilon[0]},\n",
        "            xepsilon(2)={xepsilon[1]},\n",
        "            xepsilon(3)={xepsilon[2]},\n",
        "            xiabs=1,\n",
        "            x_save_file='TFSI_2.xspectra.sav',\n",
        "            xerror=0.001\n",
        "        /\n",
        "        &plot\n",
        "            xnepoint=300,\n",
        "            xemin=-10.0,\n",
        "            xemax=30.0,\n",
        "            terminator=.true.,\n",
        "            cut_occ_states=.true.,\n",
        "            xanes_file='{xanes_file}',\n",
        "            xgamma=0.8\n",
        "        /\n",
        "        &pseudos\n",
        "            filecore='current_wfc.wfc',\n",
        "        /\n",
        "        &cut_occ\n",
        "        /\n",
        "        1 1 1 0 0 0\n",
        "        \"\"\"\n",
        "\n",
        "        # We write the input script\n",
        "        with open(qe_xspectra_input_file, \"w\") as f:\n",
        "            f.write(qe_input)\n",
        "\n",
        "        # Run XSpectra\n",
        "        ! /content/q-e/bin/xspectra.x  -in TFSI_2.xspectra.in > TFSI_2.xspectra.out"
      ]
    },
    {
      "cell_type": "markdown",
      "metadata": {
        "id": "syyBQYJeulkN"
      },
      "source": [
        "The code below filters an artifact from the calculations:"
      ]
    },
    {
      "cell_type": "code",
      "execution_count": 44,
      "metadata": {
        "id": "L1Mr2bC0ukQx"
      },
      "outputs": [],
      "source": [
        "# Iterate over all '_xanes.dat' files\n",
        "xanes_files = glob.glob('*_xanes.dat')\n",
        "for file_name in xanes_files:\n",
        "    remove_artifact(file_name)"
      ]
    },
    {
      "cell_type": "markdown",
      "metadata": {
        "id": "cDyueHCGtQv3"
      },
      "source": [
        "The cell below searches for the output files from the simulations run above and sums them over all atoms to generate the molecular NEXAFS we are after."
      ]
    },
    {
      "cell_type": "code",
      "execution_count": 47,
      "metadata": {
        "id": "ZnWbs-QitRc_"
      },
      "outputs": [],
      "source": [
        "import glob\n",
        "\n",
        "# Define the patterns for the files\n",
        "patterns = ['TFSI_2_F_*xepsilon100_xanes.dat',\n",
        "            'TFSI_2_F_*xepsilon010_xanes.dat',\n",
        "            'TFSI_2_F_*xepsilon001_xanes.dat']\n",
        "\n",
        "output_files = ['TFSI_2_F_Kedge_xepsilon100_xanes.dat',\n",
        "                'TFSI_2_F_Kedge_xepsilon010_xanes.dat',\n",
        "                'TFSI_2_F_Kedge_xepsilon001_xanes.dat']\n",
        "\n",
        "# Iterate over each pattern\n",
        "for pattern, output_file in zip(patterns, output_files):\n",
        "    # Get a list of all matching files\n",
        "    matching_files = glob.glob(pattern)\n",
        "\n",
        "    # Initialize lists for the energy and sigma\n",
        "    total_energy = []\n",
        "    total_sigma = []\n",
        "\n",
        "    # Initialize variable for the headers\n",
        "    headers = []\n",
        "\n",
        "    # Iterate over each matching file\n",
        "    for i, file_name in enumerate(matching_files):\n",
        "        # Initialize empty lists for energy and sigma\n",
        "        energy = []\n",
        "        sigma = []\n",
        "\n",
        "        # Read file\n",
        "        with open(file_name, 'r') as file:\n",
        "            for line in file:\n",
        "                # If it's a header line and we're in the first file, save it\n",
        "                if line[0] == '#' and i == 0:\n",
        "                    headers.append(line)\n",
        "                    continue\n",
        "\n",
        "                # Skip any other header lines\n",
        "                elif line[0] == '#':\n",
        "                    continue\n",
        "\n",
        "                # Split the line into energy and sigma\n",
        "                e, s = line.split()\n",
        "                # Append to lists\n",
        "                energy.append(float(e))\n",
        "                sigma.append(float(s))\n",
        "\n",
        "        # If total_energy and total_sigma is empty, set them to energy and sigma, otherwise add energy and sigma to them\n",
        "        if not total_energy and not total_sigma:\n",
        "            total_energy = energy\n",
        "            total_sigma = sigma\n",
        "        else:\n",
        "            total_sigma = [sum(x) for x in zip(total_sigma, sigma)]\n",
        "\n",
        "    # Save the total energy and sigma to a new file\n",
        "    with open(output_file, 'w') as f:\n",
        "        # Write the headers\n",
        "        for header in headers:\n",
        "            f.write(header)\n",
        "        # Write the data\n",
        "        for e, s in zip(total_energy, total_sigma):\n",
        "            f.write(f'{e}    {s}\\n')"
      ]
    },
    {
      "cell_type": "code",
      "execution_count": 59,
      "metadata": {
        "id": "iAVqQelUtTbm",
        "colab": {
          "base_uri": "https://localhost:8080/",
          "height": 240
        },
        "outputId": "1d747d7c-4962-4e98-b69e-64b174dd8616"
      },
      "outputs": [
        {
          "output_type": "display_data",
          "data": {
            "text/plain": [
              "<Figure size 700x350 with 2 Axes>"
            ],
            "image/png": "[encoded data removed]"
          },
          "metadata": {}
        }
      ],
      "source": [
        "from ase import Atoms\n",
        "from ase.io import read\n",
        "from ase.visualize import view\n",
        "from ase.visualize.plot import plot_atoms\n",
        "from ase.visualize.plot import animate\n",
        "import matplotlib.pyplot as plt\n",
        "import numpy as np\n",
        "import matplotlib.patches as patches\n",
        "import glob\n",
        "\n",
        "# Get a list of all '_xanes.dat' files\n",
        "xanes_files = glob.glob('TFSI_2_F_Kedge_*_xanes.dat')\n",
        "\n",
        "# User provides the atom types and positions in the form of a string\n",
        "atoms_string = \"\"\"\n",
        "S    11.7136472693   11.3000525590   10.2512506812\n",
        "S     9.5503254009   10.3168940131   11.4566453285\n",
        "*F     8.4634392598   10.5198711973    8.9859226145\n",
        "*F     7.1207962546   11.0396283436   10.6118427876\n",
        "*F     8.6817974366   12.4404943620   10.0411900162\n",
        "*F    14.0020792833    9.9222117007   10.3085105838\n",
        "*F    12.2816506557    8.6879076197    9.8257328170\n",
        "*F    12.6227796852    9.3650132870   11.8933939782\n",
        "O    11.0691251438   11.1511733007    8.9460568546\n",
        "O    12.7051340012   12.3833522029   10.2706453749\n",
        "O     9.8738450585    8.9753595859   10.9701011625\n",
        "O     8.7870742908   10.2932778593   12.7111771460\n",
        "N    10.7491969769   11.3526836720   11.5081815080\n",
        "C    12.6710725072    9.7481251509   10.5847155344\n",
        "C     8.4295513287   11.1104063064   10.2114367797\n",
        "\"\"\"\n",
        "# Read atomic positions\n",
        "atoms = read(qe_scf_input_file)\n",
        "\n",
        "# Parse the atoms string to create a list of atoms and a list of indices for excited atoms\n",
        "atom_info = atoms_string.strip().split('\\n')\n",
        "excited_atoms_info = [atom for atom in atom_info if '*' in atom]\n",
        "normal_atoms_info = [atom for atom in atom_info if '*' not in atom]\n",
        "\n",
        "excited_atoms_info = [atom.replace('*', '') for atom in excited_atoms_info]  # Remove asterisks from excited atoms\n",
        "\n",
        "def parse_info(info_list):\n",
        "    atom_positions = []\n",
        "    atom_types = []\n",
        "    for atom in info_list:\n",
        "        elements = atom.split()\n",
        "        atom_type, x, y, z = elements[0], float(elements[1]), float(elements[2]), float(elements[3])\n",
        "        atom_positions.append([x, y, z])\n",
        "        atom_types.append(atom_type)\n",
        "    return atom_types, atom_positions\n",
        "\n",
        "normal_atom_types, normal_atom_positions = parse_info(normal_atoms_info)\n",
        "excited_atom_types, excited_atom_positions = parse_info(excited_atoms_info)\n",
        "\n",
        "# Create an Atoms object for the normal and excited atoms\n",
        "atoms_normal = Atoms(symbols=normal_atom_types, positions=normal_atom_positions)\n",
        "atoms_excited = Atoms(symbols=excited_atom_types, positions=excited_atom_positions)\n",
        "\n",
        "# Use the same cell for both\n",
        "atoms_normal.set_cell(atoms.get_cell())\n",
        "atoms_excited.set_cell(atoms.get_cell())\n",
        "\n",
        "# Create subplots\n",
        "fig, axs = plt.subplots(1,2, figsize = (7, 3.5))\n",
        "\n",
        "# Plot the atoms\n",
        "plot_atoms(atoms_normal, ax=axs[0], radii=0.5, rotation=('0x,0y,0z'))\n",
        "\n",
        "# Plot the excited atoms with a different color\n",
        "plot_atoms(atoms_excited, ax=axs[0], radii=0.5, rotation=('0x,0y,0z'), colors=['#00FFFF']*len(atoms_excited))\n",
        "\n",
        "# Add axis labels\n",
        "axs[0].set_xlabel('X (Å)')\n",
        "axs[0].set_ylabel('Y (Å)')\n",
        "axs[0].xaxis.set_tick_params(which='both', size=5, width=2, direction='in', top='on')\n",
        "axs[0].yaxis.set_tick_params(which='both', size=5, width=2, direction='in', right='on')\n",
        "\n",
        "# Iterate over all '_xanes.dat' files\n",
        "for file_name in xanes_files:\n",
        "    # Initialize empty lists for energy and sigma\n",
        "    energy = []\n",
        "    sigma = []\n",
        "\n",
        "    # Read file\n",
        "    with open(file_name, 'r') as file:\n",
        "        for line in file:\n",
        "            # Skip lines that start with '#'\n",
        "            if line[0] != '#':\n",
        "                # Split the line into energy and sigma\n",
        "                e, s = line.split()\n",
        "                # Append to lists\n",
        "                energy.append(float(e))\n",
        "                sigma.append(float(s))\n",
        "\n",
        "    # Plot the spectra\n",
        "    axs[1].plot(energy, sigma, label=file_name)\n",
        "\n",
        "# Add axis labels\n",
        "axs[1].set_xlabel('Energy (eV)')\n",
        "axs[1].set_ylabel(r'Simulated Absorb.')\n",
        "axs[1].set_yticklabels([])\n",
        "axs[1].xaxis.set_tick_params(which='both', size=5, width=2, direction='in', top='on')\n",
        "axs[1].yaxis.set_tick_params(which='both', size=5, width=2, direction='in', right='on')\n",
        "\n",
        "plt.tight_layout()\n",
        "\n",
        "# Add legend to the right of the second plot\n",
        "axs[1].legend(loc='center left', bbox_to_anchor=(1, 0.5), frameon=False)\n",
        "\n",
        "# Show the plot\n",
        "plt.show()\n",
        "\n",
        "# Save the figure\n",
        "# fig.savefig('/content/drive/MyDrive/Quantum_ESPRESSO/2023_06_10/F4TCNQ/F4TCNQ_F_Kedge.tiff', bbox_inches = 'tight', pad_inches = 0.2, dpi = 300, transparent = False)"
      ]
    },
    {
      "cell_type": "markdown",
      "metadata": {
        "id": "dkhsr_HPtX42"
      },
      "source": [
        "In Near Edge X-ray Absorption Fine Structure (NEXAFS) spectroscopy, the observed spectra can be significantly influenced by the orientation of the molecule relative to the incident X-ray's polarization. This can be explored by setting a fixed direction for the polarization and accordingly rotating the molecule. In this way, the NEXAFS signal can be interpreted as a vector component-weighted sum of contributions from the x-, y-, and z-polarized NEXAFS.\n",
        "\n",
        "The code example provided below simulates this scenario. We set the polarization direction along the x-axis (termed the \"polarization axis\", although it represents a real spatial direction) and rotate the molecule to match. The y-axis, orthogonal to the polarization direction, is labeled the \"X-ray wave vector axis\". In this approximation, we assume that the direction from which the X-ray is propagated (i.e., the direction of the wave vector) does not influence the NEXAFS, an assumption that is reasonable for many systems.\n",
        "\n",
        "This method provides an understanding of how NEXAFS varies with molecular orientation, which can be crucial for interpreting experimental results.\n",
        "\n",
        "There are several observations to note from the above example. Firstly, for each X-ray polarization (xepsilon) aligned with the x-, y-, and z-axis, there are two orthogonal X-ray wave vectors (xkvec). We've simulated all six possible pairs, but due to overlap, only three curves are visible. This indicates that in this simulation, the X-ray polarization vector is the primary factor; thus, we can simplify future simulations to include just the x-, y-, and z-polarized NEXAFS, with any arbitrary orthogonal X-ray wave vector.\n",
        "\n",
        "Secondly, we've highlighted the fluorine atom (in red), whose NEXAFS we're simulating. All fluorine atoms in this molecule are identical, making it a representative choice for simulating the entire molecule's NEXAFS.\n",
        "\n",
        "Lastly, we acknowledge that the molecular bonding does not intuitively suggest whether we would anticipate a transition dipole moment from fluorine. However, because DFT can simulate the electron density delocalized over the molecule, and the excited electron is likely to populate the lowest energy excited state, the delocalization significantly influences the anisotropy in the NEXAFS. In the dipole approximation (often a suitable approximation for NEXAFS experiments), the transition probability is proportional to the square of the dot product of the transition dipole moment and the X-ray's electric field vector. Hence, transitions are most probable when the transition dipole moment aligns with the X-ray's polarization, and least probable when they are orthogonal."
      ]
    },
    {
      "cell_type": "code",
      "execution_count": 70,
      "metadata": {
        "id": "J4K9Idr2taOU",
        "colab": {
          "base_uri": "https://localhost:8080/",
          "height": 344
        },
        "outputId": "a7f37bfb-afa4-4cfb-f618-ca8a8a64a74a"
      },
      "outputs": [
        {
          "output_type": "display_data",
          "data": {
            "text/plain": [
              "<Figure size 700x350 with 2 Axes>"
            ],
            "image/png": "[encoded data removed]"
          },
          "metadata": {}
        }
      ],
      "source": [
        "from scipy.spatial.transform import Rotation as R\n",
        "import glob\n",
        "import matplotlib.pyplot as plt\n",
        "import ase.visualize.plot as ase_plot\n",
        "from ase.visualize.plot import plot_atoms\n",
        "from ase import Atoms\n",
        "import numpy as np\n",
        "from ase.io import read\n",
        "\n",
        "# Function to rotate atomic positions\n",
        "def rotate_positions(atoms, rotation, center):\n",
        "    rotated_atomic_positions = []\n",
        "    for atom in atoms:\n",
        "        position = atom.position - center\n",
        "        rotated_position = rotation.apply([position])[0]\n",
        "        rotated_atomic_positions.append((atom.symbol, *(rotated_position + center)))\n",
        "    return rotated_atomic_positions\n",
        "\n",
        "# Specify the user-defined weights for the x-, y-, and z-polarized contributions\n",
        "weights = [0, 0, 1]  # example weights\n",
        "\n",
        "# User provides the atom types and positions in the form of a string\n",
        "atoms_string = \"\"\"\n",
        "S    11.7136472693   11.3000525590   10.2512506812\n",
        "S     9.5503254009   10.3168940131   11.4566453285\n",
        "*F     8.4634392598   10.5198711973    8.9859226145\n",
        "*F     7.1207962546   11.0396283436   10.6118427876\n",
        "*F     8.6817974366   12.4404943620   10.0411900162\n",
        "*F    14.0020792833    9.9222117007   10.3085105838\n",
        "*F    12.2816506557    8.6879076197    9.8257328170\n",
        "*F    12.6227796852    9.3650132870   11.8933939782\n",
        "O    11.0691251438   11.1511733007    8.9460568546\n",
        "O    12.7051340012   12.3833522029   10.2706453749\n",
        "O     9.8738450585    8.9753595859   10.9701011625\n",
        "O     8.7870742908   10.2932778593   12.7111771460\n",
        "N    10.7491969769   11.3526836720   11.5081815080\n",
        "C    12.6710725072    9.7481251509   10.5847155344\n",
        "C     8.4295513287   11.1104063064   10.2114367797\n",
        "\"\"\"\n",
        "\n",
        "# Check if the weights sum to 1\n",
        "if not np.isclose(sum(weights), 1):\n",
        "    # If they don't, normalize the weights and print a warning\n",
        "    total_weight = sum(weights)\n",
        "    weights = [w / total_weight for w in weights]\n",
        "    print(\"Warning: The weights did not sum to 1 and have been normalized.\")\n",
        "\n",
        "# Check if the weights are isotropic\n",
        "isotropic = np.allclose(weights, [1/3, 1/3, 1/3])\n",
        "\n",
        "if isotropic:\n",
        "    print(\"The weights are isotropic. The molecule is randomly oriented and no rotation is applied.\")\n",
        "\n",
        "# Get a list of all '_xanes.dat' files\n",
        "xanes_files_100 = glob.glob('TFSI_2_F_*100_xanes.dat')\n",
        "xanes_files_010 = glob.glob('TFSI_2_F_*010_xanes.dat')\n",
        "xanes_files_001 = glob.glob('TFSI_2_F_*001_xanes.dat')\n",
        "\n",
        "# Lists of files\n",
        "xanes_files_lists = [xanes_files_100, xanes_files_010, xanes_files_001]\n",
        "\n",
        "# Initialize lists to store the energy and sigma values for each file\n",
        "energy_values = []\n",
        "sigma_values = []\n",
        "\n",
        "# Iterate over the lists of files\n",
        "for xanes_files in xanes_files_lists:\n",
        "    # Initialize lists to store the energy and sigma values for the current list of files\n",
        "    energy_list = []\n",
        "    sigma_list = []\n",
        "\n",
        "    # Iterate over the files in the current list\n",
        "    for xanes_file in xanes_files:\n",
        "        # Initialize empty lists for energy and sigma\n",
        "        energy = []\n",
        "        sigma = []\n",
        "\n",
        "        # Read file\n",
        "        with open(xanes_file, 'r') as file:\n",
        "            for line in file:\n",
        "                # Skip lines that start with '#'\n",
        "                if line[0] != '#':\n",
        "                    # Split the line into energy and sigma\n",
        "                    e, s = line.split()\n",
        "                    # Append to lists\n",
        "                    energy.append(float(e))\n",
        "                    sigma.append(float(s))\n",
        "\n",
        "        # Add the energy and sigma values to their respective lists\n",
        "        energy_list.append(energy)\n",
        "        sigma_list.append(sigma)\n",
        "\n",
        "    # Add the average energy and sigma values to their respective lists\n",
        "    energy_values.append(np.mean(energy_list, axis=0))\n",
        "    sigma_values.append(np.mean(sigma_list, axis=0))\n",
        "\n",
        "# Calculate the weighted sum of the sigma values\n",
        "weighted_sigma_sum = sum(w * s for w, s in zip(weights, sigma_values))\n",
        "\n",
        "# Read atomic positions\n",
        "atoms = read(qe_scf_input_file)\n",
        "\n",
        "# Calculate the center of the molecule\n",
        "center = atoms.get_center_of_mass()\n",
        "\n",
        "# Calculate the net polarization direction\n",
        "net_polarization = np.array(weights)\n",
        "\n",
        "# Calculate the angle and rotation axis\n",
        "angle = np.arccos(np.dot(net_polarization, [1, 0, 0]))\n",
        "axis = np.cross([1, 0, 0], net_polarization)\n",
        "rotation_vector = axis * angle\n",
        "\n",
        "# If the net polarization\n",
        "# Continue the code\n",
        "rotation = None\n",
        "if not np.allclose(net_polarization, [1, 0, 0]) and not isotropic:\n",
        "    rotation = R.from_rotvec(rotation_vector)\n",
        "\n",
        "# Read the atomic positions and apply rotation if necessary\n",
        "rotated_atomic_positions = rotate_positions(atoms, rotation, center) if rotation else [(atom.symbol, *atom.position) for atom in atoms]\n",
        "\n",
        "# Create an Atoms object for the rotated atoms\n",
        "atoms_rotated = Atoms([atom_symbol for atom_symbol, _, _, _ in rotated_atomic_positions],\n",
        "                      positions=[pos for _, *pos in rotated_atomic_positions])\n",
        "atoms_rotated.set_cell(atoms.get_cell())\n",
        "\n",
        "# Parse the atoms string to create a list of atoms and a list of indices for excited atoms\n",
        "atom_info = atoms_string.strip().split('\\n')\n",
        "excited_atoms_info = [atom for atom in atom_info if '*' in atom]\n",
        "normal_atoms_info = [atom for atom in atom_info if '*' not in atom]\n",
        "\n",
        "excited_atoms_info = [atom.replace('*', '') for atom in excited_atoms_info]  # Remove asterisks from excited atoms\n",
        "\n",
        "def parse_info(info_list):\n",
        "    atom_positions = []\n",
        "    atom_types = []\n",
        "    for atom in info_list:\n",
        "        elements = atom.split()\n",
        "        atom_type, x, y, z = elements[0], float(elements[1]), float(elements[2]), float(elements[3])\n",
        "        atom_positions.append([x, y, z])\n",
        "        atom_types.append(atom_type)\n",
        "    return atom_types, atom_positions\n",
        "\n",
        "normal_atom_types, normal_atom_positions = parse_info(normal_atoms_info)\n",
        "excited_atom_types, excited_atom_positions = parse_info(excited_atoms_info)\n",
        "\n",
        "# Create an Atoms object for the normal and excited atoms\n",
        "atoms_normal = Atoms(symbols=normal_atom_types, positions=normal_atom_positions)\n",
        "atoms_excited = Atoms(symbols=excited_atom_types, positions=excited_atom_positions)\n",
        "\n",
        "# Use the same cell for both\n",
        "atoms_normal.set_cell(atoms.get_cell())\n",
        "atoms_excited.set_cell(atoms.get_cell())\n",
        "\n",
        "# Apply rotation to the excited atoms if necessary\n",
        "rotated_excited_positions = rotate_positions(atoms_excited, rotation, center) if rotation else [(atom.symbol, *atom.position) for atom in atoms_excited]\n",
        "\n",
        "# Create an Atoms object for the rotated excited atoms\n",
        "atoms_excited_rotated = Atoms([atom for atom, _, _, _ in rotated_excited_positions],\n",
        "                               positions=[pos for _, *pos in rotated_excited_positions])\n",
        "atoms_excited_rotated.set_cell(atoms_excited.get_cell())\n",
        "\n",
        "# Create subplots\n",
        "fig, axs = plt.subplots(1,2, figsize = (7, 3.5))\n",
        "\n",
        "# Plot the rotated atoms\n",
        "ase_plot.plot_atoms(atoms_rotated, ax=axs[0], radii=0.5, rotation=('0x,0y,0z'))\n",
        "\n",
        "# Plot the rotated excited atoms with a different color\n",
        "plot_atoms(atoms_excited_rotated, ax=axs[0], radii=0.5, rotation=('0x,0y,0z'), colors=['#00FFFF']*len(atoms_excited_rotated))\n",
        "\n",
        "# Plot the resulting weighted sum\n",
        "axs[1].plot(energy_values[0], weighted_sigma_sum, label='Weighted Sum \\n(Randomly Oriented)' if isotropic else 'Weighted Sum', color='red', linewidth=1.5)\n",
        "\n",
        "# Add axis labels\n",
        "axs[0].set_xlabel('X-Ray \\nPolarization Axis (Å)')\n",
        "axs[0].set_ylabel('X-Ray Wave\\nVector Axis (Å)')\n",
        "axs[0].xaxis.set_tick_params(which='both', size=5, width=2, direction='in', top='on')\n",
        "axs[0].yaxis.set_tick_params(which='both', size=5, width=2, direction='in', right='on')\n",
        "\n",
        "axs[1].set_xlabel('Energy (eV)')\n",
        "axs[1].set_ylabel(r'Simulated Absorb.')\n",
        "axs[1].set_yticklabels([])\n",
        "axs[1].xaxis.set_tick_params(which='both', size=5, width=2, direction='in', top='on')\n",
        "axs[1].yaxis.set_tick_params(which='both', size=5, width=2, direction='in', right='on')\n",
        "\n",
        "# First, find the extent of the x-axis to place the arrow appropriately.\n",
        "x_min, x_max = axs[0].get_xlim()\n",
        "\n",
        "# Calculate the y position for the arrow. This places the arrow 2 Angstroms below the center of mass of the molecule.\n",
        "arrow_y_position = atoms.get_center_of_mass()[1] - 5\n",
        "\n",
        "# Calculate the start and end x positions for the arrow. This places the arrow 10% away from the edges of the plot.\n",
        "arrow_x_start = x_min + 0.2 * (x_max - x_min)\n",
        "arrow_x_end = x_max - 0.2 * (x_max - x_min)\n",
        "\n",
        "if isotropic:\n",
        "    # If the weights are isotropic, print the text instead of the arrow.\n",
        "    axs[0].text(x_min + 0.5 * (x_max - x_min), arrow_y_position, \"Isotropic Polarization\", horizontalalignment='center', verticalalignment='center', fontsize=10, color='red')\n",
        "else:\n",
        "    # Draw a double-headed arrow to represent the polarization direction.\n",
        "    axs[0].annotate(\"\", xy=(arrow_x_end, arrow_y_position), xytext=(arrow_x_start, arrow_y_position),\n",
        "                    arrowprops=dict(arrowstyle=\"<->\", lw=2, color='red'))\n",
        "\n",
        "plt.tight_layout()\n",
        "\n",
        "# Add legend to the right of the second plot\n",
        "# axs[1].legend(loc='center left', bbox_to_anchor=(1, 0.5), frameon=False)\n",
        "\n",
        "plt.show()\n",
        "\n",
        "fig.savefig('/content/drive/MyDrive/Quantum_ESPRESSO/2023_06_20/TFSI_2/TFSI_2_F_Kedge_weighted_sum.tiff', bbox_inches = 'tight', pad_inches = 0.2, dpi = 300, transparent = False)"
      ]
    },
    {
      "cell_type": "code",
      "source": [],
      "metadata": {
        "id": "iyPa25SZonQi"
      },
      "execution_count": 70,
      "outputs": []
    }
  ],
  "metadata": {
    "colab": {
      "provenance": [],
      "include_colab_link": true
    },
    "kernelspec": {
      "display_name": "Python 3",
      "name": "python3"
    }
  },
  "nbformat": 4,
  "nbformat_minor": 0
}